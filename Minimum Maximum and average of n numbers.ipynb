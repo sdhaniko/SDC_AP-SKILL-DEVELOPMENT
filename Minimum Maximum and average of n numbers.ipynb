{
 "cells": [
  {
   "cell_type": "code",
   "execution_count": 1,
   "metadata": {},
   "outputs": [
    {
     "name": "stdout",
     "output_type": "stream",
     "text": [
      "How many numbers: 3\n",
      "Enter number : 10\n",
      "Enter number : 20\n",
      "Enter number : 30\n",
      "Average of  3  numbers is : 20.0\n"
     ]
    }
   ],
   "source": [
    "num = int(input('How many numbers: '))\n",
    "total_sum = 0\n",
    "k=0\n",
    "\n",
    "for n in range(num):\n",
    "    numbers = float(input('Enter number : '))\n",
    "    total_sum += numbers\n",
    "avg = total_sum/num\n",
    "print('Average of ', num, ' numbers is :', avg)\n"
   ]
  },
  {
   "cell_type": "code",
   "execution_count": 4,
   "metadata": {},
   "outputs": [
    {
     "name": "stdout",
     "output_type": "stream",
     "text": [
      "How many numbers: 5\n",
      "Enter a number: 10\n",
      "Enter a number: 20\n",
      "Enter a number: 50\n",
      "Enter a number: 40\n",
      "Enter a number: 30\n",
      "Maximum is 50\n",
      "Minimum is 20\n"
     ]
    }
   ],
   "source": [
    "num = int(input('How many numbers: '))\n",
    "for n in range(num):\n",
    "    num = int(input(\"Enter a number: \"))\n",
    "    if n==1:\n",
    "        largest=num\n",
    "        smallest=num\n",
    "    if largest < num :\n",
    "        largest = num\n",
    "    if smallest is None :\n",
    "        smallest = num\n",
    "    elif num < smallest :\n",
    "        smallest = num\n",
    "\n",
    "print(\"Maximum is\", largest)\n",
    "print(\"Minimum is\", smallest)\n"
   ]
  },
  {
   "cell_type": "code",
   "execution_count": null,
   "metadata": {},
   "outputs": [],
   "source": []
  }
 ],
 "metadata": {
  "kernelspec": {
   "display_name": "Python 3",
   "language": "python",
   "name": "python3"
  },
  "language_info": {
   "codemirror_mode": {
    "name": "ipython",
    "version": 3
   },
   "file_extension": ".py",
   "mimetype": "text/x-python",
   "name": "python",
   "nbconvert_exporter": "python",
   "pygments_lexer": "ipython3",
   "version": "3.7.1"
  }
 },
 "nbformat": 4,
 "nbformat_minor": 2
}
