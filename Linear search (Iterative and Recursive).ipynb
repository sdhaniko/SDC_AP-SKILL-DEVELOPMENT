{
 "cells": [
  {
   "cell_type": "markdown",
   "metadata": {},
   "source": [
    "# 4.\tLinear search (Iterative and Recursive)\n"
   ]
  },
  {
   "cell_type": "code",
   "execution_count": 5,
   "metadata": {},
   "outputs": [],
   "source": [
    "def linearsearch(arr, n, x):\n",
    "    for i in range (0, n):\n",
    "        if (arr[i] == x):\n",
    "            return i\n",
    "    return -1; "
   ]
  },
  {
   "cell_type": "code",
   "execution_count": 6,
   "metadata": {},
   "outputs": [
    {
     "name": "stdout",
     "output_type": "stream",
     "text": [
      "Enter number of elements : 3\n",
      "1\n",
      "2\n",
      "3\n",
      "[1, 2, 3]\n",
      "Enter the element to search5\n",
      "Element is not present in array\n"
     ]
    }
   ],
   "source": [
    "lst = [] \n",
    "n = int(input(\"Enter number of elements : \")) \n",
    "for i in range(0, n): \n",
    "    ele = int(input()) \n",
    "    lst.append(ele) \n",
    "    \n",
    "print(lst) \n",
    "key = int(input(\"Enter the element to search\"))\n",
    "result = linearsearch(lst, n, key) \n",
    "if(result == -1):\n",
    "    print(\"Element is not present in array\") \n",
    "else:\n",
    "    print(\"Element is present at index\", result); "
   ]
  },
  {
   "cell_type": "markdown",
   "metadata": {},
   "source": [
    "# Linear search using RECURSION"
   ]
  },
  {
   "cell_type": "code",
   "execution_count": 1,
   "metadata": {},
   "outputs": [
    {
     "name": "stdout",
     "output_type": "stream",
     "text": [
      "Enter number of elements : 5\n",
      "10\n",
      "20\n",
      "30\n",
      "40\n",
      "50\n",
      "[10, 20, 30, 40, 50]\n",
      "Enter the element to search55\n",
      "Element is not present in array\n"
     ]
    }
   ],
   "source": [
    "# Recursive function to search x in arr[l..r] \n",
    "def recSearch( arr, l, r, x):\n",
    "    if r < l:\n",
    "        return -1\n",
    "    if arr[l] == x:\n",
    "        return l \n",
    "    if arr[r] == x:\n",
    "        return r \n",
    "    return recSearch(arr, l+1, r-1, x) \n",
    "\n",
    "lst = [] \n",
    "n = int(input(\"Enter number of elements : \")) \n",
    "for i in range(0, n): \n",
    "    ele = int(input()) \n",
    "    lst.append(ele) \n",
    "    \n",
    "print(lst) \n",
    "\n",
    "key = int(input(\"Enter the element to search\"))\n",
    "result = recSearch(lst, 0,n-1, key) \n",
    "if(result == -1):\n",
    "    print(\"Element is not present in array\") \n",
    "else:\n",
    "    print(\"Element is present at index\", result); "
   ]
  },
  {
   "cell_type": "code",
   "execution_count": null,
   "metadata": {},
   "outputs": [],
   "source": []
  }
 ],
 "metadata": {
  "kernelspec": {
   "display_name": "Python 3",
   "language": "python",
   "name": "python3"
  },
  "language_info": {
   "codemirror_mode": {
    "name": "ipython",
    "version": 3
   },
   "file_extension": ".py",
   "mimetype": "text/x-python",
   "name": "python",
   "nbconvert_exporter": "python",
   "pygments_lexer": "ipython3",
   "version": "3.7.1"
  }
 },
 "nbformat": 4,
 "nbformat_minor": 2
}
