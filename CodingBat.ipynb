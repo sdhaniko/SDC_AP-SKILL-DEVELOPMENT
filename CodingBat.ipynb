{
 "cells": [
  {
   "cell_type": "markdown",
   "metadata": {},
   "source": [
    "# Warmup-1 > sleep_in \n",
    "prev  |  next  |  chance\n",
    "The parameter weekday is True if it is a weekday, and the parameter vacation is True if we are on vacation. We sleep in if it is not a weekday or we're on vacation. Return True if we sleep in.\n",
    "\n",
    "\n",
    "sleep_in(False, False) → True\n",
    "sleep_in(True, False) → False\n",
    "sleep_in(False, True) → True"
   ]
  },
  {
   "cell_type": "code",
   "execution_count": null,
   "metadata": {},
   "outputs": [],
   "source": [
    "\n",
    "    "
   ]
  },
  {
   "cell_type": "markdown",
   "metadata": {},
   "source": [
    "# Warmup-1 > diff21 \n",
    "prev  |  next  |  chance\n",
    "Given an int n, return the absolute difference between n and 21, except return double the absolute difference if n is over 21.\n",
    "\n",
    "\n",
    "diff21(19) → 2\n",
    "diff21(10) → 11\n",
    "diff21(21) → 0"
   ]
  },
  {
   "cell_type": "code",
   "execution_count": 95,
   "metadata": {},
   "outputs": [
    {
     "name": "stdout",
     "output_type": "stream",
     "text": [
      "2\n",
      "11\n",
      "2\n"
     ]
    }
   ],
   "source": [
    "def diff21(n):\n",
    "    if n <= 21:\n",
    "         return 21 - n\n",
    "    else:\n",
    "        return (n - 21) * 2\n",
    "    \n",
    "print(diff21(19))\n",
    "print(diff21(10))\n",
    "print(diff21(22))"
   ]
  },
  {
   "cell_type": "markdown",
   "metadata": {},
   "source": [
    "# Warmup-1 > near_hundred \n",
    "prev  |  next  |  chance\n",
    "Given an int n, return True if it is within 10 of 100 or 200. Note: abs(num) computes the absolute value of a number.\n",
    "\n",
    "\n",
    "near_hundred(93) → True\n",
    "near_hundred(90) → True\n",
    "near_hundred(89) → False"
   ]
  },
  {
   "cell_type": "code",
   "execution_count": 96,
   "metadata": {},
   "outputs": [
    {
     "name": "stdout",
     "output_type": "stream",
     "text": [
      "Enter N value100\n"
     ]
    },
    {
     "data": {
      "text/plain": [
       "True"
      ]
     },
     "execution_count": 96,
     "metadata": {},
     "output_type": "execute_result"
    }
   ],
   "source": [
    "def near_hundred(n):\n",
    "    return ((abs(100 - n) <= 10) or (abs(200 - n) <= 10))\n",
    "near_hundred(int(input(\"Enter N value\")))"
   ]
  },
  {
   "cell_type": "markdown",
   "metadata": {},
   "source": [
    "\n",
    "# Given a non-empty string and an int n, return a new string where the char at index n has been removed. The value of n will be a valid index of a char in the original string (i.e. n will be in the range 0..len(str)-1 inclusive).\n",
    "\n",
    "\n",
    "missing_char('kitten', 1) → 'ktten'\n",
    "missing_char('kitten', 0) → 'itten'\n",
    "missing_char('kitten', 4) → 'kittn'"
   ]
  },
  {
   "cell_type": "code",
   "execution_count": 97,
   "metadata": {},
   "outputs": [
    {
     "name": "stdout",
     "output_type": "stream",
     "text": [
      "kiten\n"
     ]
    }
   ],
   "source": [
    "def missing_char(str, n):\n",
    "      return str[:n]+str[n+1:]\n",
    "print(missing_char(\"kitten\",2))\n",
    "\n"
   ]
  },
  {
   "cell_type": "markdown",
   "metadata": {},
   "source": [
    "# Warmup-1 > monkey_trouble \n",
    "prev  |  next  |  chance\n",
    "We have two monkeys, a and b, and the parameters a_smile and b_smile indicate if each is smiling. We are in trouble if they are both smiling or if neither of them is smiling. Return True if we are in trouble.\n",
    "\n",
    "\n",
    "monkey_trouble(True, True) → True\n",
    "monkey_trouble(False, False) → True\n",
    "monkey_trouble(True, False) → False"
   ]
  },
  {
   "cell_type": "code",
   "execution_count": 107,
   "metadata": {},
   "outputs": [
    {
     "name": "stdout",
     "output_type": "stream",
     "text": [
      "True\n",
      "False\n",
      "False\n",
      "True\n"
     ]
    }
   ],
   "source": [
    "def monkey_trouble(a_smile, b_smile):\n",
    "    if a_smile and b_smile:\n",
    "        return True\n",
    "    if not a_smile and not b_smile:\n",
    "        return True\n",
    "    return False\n",
    "print(monkey_trouble(True,True))\n",
    "print(monkey_trouble(True,False))\n",
    "print(monkey_trouble(False,True))\n",
    "print(monkey_trouble(False,False))"
   ]
  },
  {
   "cell_type": "markdown",
   "metadata": {},
   "source": [
    "# Warmup-1 > pos_neg \n",
    "prev  |  next  |  chance\n",
    "Given 2 int values, return True if one is negative and one is positive. Except if the parameter \"negative\" is True, then return True only if both are negative.\n",
    "\n",
    "\n",
    "pos_neg(1, -1, False) → True\n",
    "pos_neg(-1, 1, False) → True\n",
    "pos_neg(-4, -5, True) → True"
   ]
  },
  {
   "cell_type": "code",
   "execution_count": 99,
   "metadata": {},
   "outputs": [
    {
     "name": "stdout",
     "output_type": "stream",
     "text": [
      "False\n",
      "False\n",
      "False\n",
      "True\n",
      "True\n"
     ]
    }
   ],
   "source": [
    "def pos_neg(a, b, negative):\n",
    "    if negative:\n",
    "        return (a < 0 and b < 0)\n",
    "    else:\n",
    "        return ((a < 0 and b > 0) or (a > 0 and b < 0))\n",
    "\n",
    "print(pos_neg(5,6,-3))\n",
    "print(pos_neg(-5,6,-3))\n",
    "print(pos_neg(-5,6,3))\n",
    "print(pos_neg(-5,-6,-3))\n",
    "print(pos_neg(-5,-6,3))"
   ]
  },
  {
   "cell_type": "markdown",
   "metadata": {},
   "source": [
    "# Warmup-1 > parrot_trouble \n",
    "prev  |  next  |  chance\n",
    "We have a loud talking parrot. The \"hour\" parameter is the current hour time in the range 0..23. We are in trouble if the parrot is talking and the hour is before 7 or after 20. Return True if we are in trouble.\n",
    "\n",
    "\n",
    "parrot_trouble(True, 6) → True\n",
    "parrot_trouble(True, 7) → False\n",
    "parrot_trouble(False, 6) → False"
   ]
  },
  {
   "cell_type": "code",
   "execution_count": 100,
   "metadata": {},
   "outputs": [
    {
     "name": "stdout",
     "output_type": "stream",
     "text": [
      "True\n",
      "False\n",
      "False\n"
     ]
    }
   ],
   "source": [
    "def parrot_trouble(talking, hour):\n",
    "    return (talking and (hour < 7 or hour > 20))\n",
    "print(parrot_trouble(True,6))\n",
    "print(parrot_trouble(True,7))\n",
    "print(parrot_trouble(False,6))"
   ]
  },
  {
   "cell_type": "markdown",
   "metadata": {},
   "source": [
    "# Warmup-1 > front_back \n",
    "prev  |  next  |  chance\n",
    "Given a string, return a new string where the first and last chars have been exchanged.\n",
    "\n",
    "\n",
    "front_back('code') → 'eodc'\n",
    "front_back('a') → 'a'\n",
    "front_back('ab') → 'ba'"
   ]
  },
  {
   "cell_type": "code",
   "execution_count": 101,
   "metadata": {},
   "outputs": [
    {
     "data": {
      "text/plain": [
       "'oellH'"
      ]
     },
     "execution_count": 101,
     "metadata": {},
     "output_type": "execute_result"
    }
   ],
   "source": [
    "def front_back(str):\n",
    "    k=len(str)\n",
    "    temp=str[0]\n",
    "    temp1=str[k-1]\n",
    "    #print(temp1,temp)\n",
    "    temp2=str[1:k-1]\n",
    "    return temp1+temp2+temp\n",
    "front_back(\"Hello\")"
   ]
  },
  {
   "cell_type": "markdown",
   "metadata": {},
   "source": [
    "# print all alternate characters in a string"
   ]
  },
  {
   "cell_type": "code",
   "execution_count": 102,
   "metadata": {},
   "outputs": [
    {
     "name": "stdout",
     "output_type": "stream",
     "text": [
      "NOHTYP OLLEHNone\n"
     ]
    }
   ],
   "source": [
    "def alternate(str):\n",
    "    k=len(str)\n",
    "    for i in range(k-1,-1,-1):# last -1 is for descending\n",
    "        print(str[i],end='')\n",
    "        \n",
    "print(alternate(\"HELLO PYTHON\"))"
   ]
  },
  {
   "cell_type": "markdown",
   "metadata": {},
   "source": [
    "# Warmup-1 > front3 \n",
    "prev  |  next  |  chance\n",
    "Given a string, we'll say that the front is the first 3 chars of the string. If the string length is less than 3, the front is whatever is there. Return a new string which is 3 copies of the front.\n",
    "\n",
    "\n",
    "front3('Java') → 'JavJavJav'\n",
    "front3('Chocolate') → 'ChoChoCho'\n",
    "front3('abc') → 'abcabcabc'"
   ]
  },
  {
   "cell_type": "code",
   "execution_count": 103,
   "metadata": {},
   "outputs": [
    {
     "name": "stdout",
     "output_type": "stream",
     "text": [
      "HEL HEL HEL \n",
      "\n",
      "hi hi hi "
     ]
    }
   ],
   "source": [
    "def front3(str):\n",
    "    front_end = 3\n",
    "    if len(str) < front_end:\n",
    "        front_end = len(str)\n",
    "    front = str[:front_end]\n",
    "  \n",
    "    for i in range(0,3):\n",
    "        print(front,end=' ')\n",
    "        i=i+1\n",
    "    #print (front+front+front)\n",
    "    \n",
    "front3(\"HELLO\")\n",
    "print(\"\\n\")\n",
    "front3(\"hi\")"
   ]
  },
  {
   "cell_type": "markdown",
   "metadata": {},
   "source": [
    "# Warmup-1 > not_string \n",
    "prev  |  next  |  chance\n",
    "Given a string, return a new string where \"not \" has been added to the front. However, if the string already begins with \"not\", return the string unchanged.\n",
    "\n",
    "\n",
    "not_string('candy') → 'not candy'\n",
    "not_string('x') → 'not x'\n",
    "not_string('not bad') → 'not bad'"
   ]
  },
  {
   "cell_type": "code",
   "execution_count": 104,
   "metadata": {},
   "outputs": [
    {
     "name": "stdout",
     "output_type": "stream",
     "text": [
      "not HELLO PYTHON\n",
      "not NOT HELLO PYTHON\n",
      "not HELLO PYTHON\n",
      "not HE\n",
      "not\n",
      "note\n"
     ]
    }
   ],
   "source": [
    "def not_string(str):\n",
    "    if str[:3] == \"not\":\n",
    "        return str\n",
    "    return \"not \" + str\n",
    "print(not_string(\"HELLO PYTHON\"))\n",
    "print(not_string(\"NOT HELLO PYTHON\"))\n",
    "print(not_string(\"not HELLO PYTHON\"))\n",
    "print(not_string(\"HE\"))\n",
    "print(not_string(\"not\"))\n",
    "print(not_string(\"note\"))"
   ]
  },
  {
   "cell_type": "markdown",
   "metadata": {},
   "source": [
    "# Warmup-1 > makes10 \n",
    "prev  |  next  |  chance\n",
    "Given 2 ints, a and b, return True if one if them is 10 or if their sum is 10.\n",
    "\n",
    "\n",
    "makes10(9, 10) → True\n",
    "makes10(9, 9) → False\n",
    "makes10(1, 9) → True"
   ]
  },
  {
   "cell_type": "code",
   "execution_count": 105,
   "metadata": {},
   "outputs": [
    {
     "name": "stdout",
     "output_type": "stream",
     "text": [
      "True\n",
      "False\n"
     ]
    }
   ],
   "source": [
    "def makes10(a, b):\n",
    "    if(a==10 or b==10 or a+b==10):\n",
    "        print(\"True\")\n",
    "    else:\n",
    "        print(\"False\")    \n",
    "(makes10(5,5))\n",
    "(makes10(5,6))\n"
   ]
  },
  {
   "cell_type": "code",
   "execution_count": null,
   "metadata": {},
   "outputs": [],
   "source": []
  }
 ],
 "metadata": {
  "kernelspec": {
   "display_name": "Python 3",
   "language": "python",
   "name": "python3"
  },
  "language_info": {
   "codemirror_mode": {
    "name": "ipython",
    "version": 3
   },
   "file_extension": ".py",
   "mimetype": "text/x-python",
   "name": "python",
   "nbconvert_exporter": "python",
   "pygments_lexer": "ipython3",
   "version": "3.7.1"
  }
 },
 "nbformat": 4,
 "nbformat_minor": 2
}
