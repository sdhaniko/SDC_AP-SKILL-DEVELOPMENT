{
 "cells": [
  {
   "cell_type": "markdown",
   "metadata": {},
   "source": [
    "# binary search using iteration"
   ]
  },
  {
   "cell_type": "code",
   "execution_count": 36,
   "metadata": {},
   "outputs": [],
   "source": [
    "# Python Program for recursive binary search. \n",
    "def binarySearch (lst, l, r, key):\n",
    "    while(l<=r):\n",
    "        mid = (l + r)//2\n",
    "        if lst[mid]==key:\n",
    "            return mid \n",
    "        elif lst[mid] < key: \n",
    "            l=mid+1\n",
    "        else: \n",
    "            r=mid-1\n",
    "    return -1\n",
    "  "
   ]
  },
  {
   "cell_type": "code",
   "execution_count": 39,
   "metadata": {},
   "outputs": [
    {
     "name": "stdout",
     "output_type": "stream",
     "text": [
      "Enter number of elements : 5\n",
      "11\n",
      "22\n",
      "33\n",
      "44\n",
      "55\n",
      "[11, 22, 33, 44, 55]\n",
      "Enter the element to search66\n",
      "Element is not present in array\n"
     ]
    }
   ],
   "source": [
    "lst = [] \n",
    "n = int(input(\"Enter number of elements : \")) \n",
    "for i in range(0, n): \n",
    "    ele = int(input()) \n",
    "    lst.append(ele) \n",
    "    \n",
    "print(lst) \n",
    "\n",
    "key = int(input(\"Enter the element to search\"))\n",
    "result = binarySearch(lst,0,n-1, key)\n",
    "\n",
    "if result != -1: \n",
    "    print(\"Element is present at index \",result )\n",
    "else: \n",
    "    print(\"Element is not present in array\" )"
   ]
  },
  {
   "cell_type": "markdown",
   "metadata": {},
   "source": [
    " # binary search using recursion"
   ]
  },
  {
   "cell_type": "code",
   "execution_count": 3,
   "metadata": {},
   "outputs": [
    {
     "name": "stdout",
     "output_type": "stream",
     "text": [
      "Enter number of elements : 5\n",
      "11\n",
      "22\n",
      "33\n",
      "44\n",
      "55\n",
      "[11, 22, 33, 44, 55]\n",
      "Enter the element to search66\n",
      "Element is not present in array\n"
     ]
    }
   ],
   "source": [
    "lst = [] \n",
    "n = int(input(\"Enter number of elements : \")) \n",
    "for i in range(0, n): \n",
    "    ele = int(input()) \n",
    "    lst.append(ele) \n",
    "    \n",
    "print(lst) \n",
    "\n",
    "key = int(input(\"Enter the element to search\"))\n",
    "result = binaryRecSearch(lst,0,n-1, key)\n",
    "\n",
    "if result != -1: \n",
    "    print(\"Element is present at index \",result )\n",
    "else: \n",
    "    print(\"Element is not present in array\" )"
   ]
  },
  {
   "cell_type": "code",
   "execution_count": 1,
   "metadata": {},
   "outputs": [],
   "source": [
    "def binaryRecSearch (lst, l, r, key):\n",
    "    if r >= l:\n",
    "        mid = (l + r)//2\n",
    "        if lst[mid] == key:\n",
    "            return mid \n",
    "        elif lst[mid] > key: \n",
    "            return binaryRecSearch(lst, l, mid-1, key) \n",
    "        else: \n",
    "            return binaryRecSearch(lst, mid+1, r, key) \n",
    "  \n",
    "    else: \n",
    "        return -1"
   ]
  },
  {
   "cell_type": "code",
   "execution_count": null,
   "metadata": {},
   "outputs": [],
   "source": []
  }
 ],
 "metadata": {
  "kernelspec": {
   "display_name": "Python 3",
   "language": "python",
   "name": "python3"
  },
  "language_info": {
   "codemirror_mode": {
    "name": "ipython",
    "version": 3
   },
   "file_extension": ".py",
   "mimetype": "text/x-python",
   "name": "python",
   "nbconvert_exporter": "python",
   "pygments_lexer": "ipython3",
   "version": "3.7.1"
  }
 },
 "nbformat": 4,
 "nbformat_minor": 2
}
