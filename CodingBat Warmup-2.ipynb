{
 "cells": [
  {
   "cell_type": "markdown",
   "metadata": {},
   "source": [
    "# Problem-1\n",
    "Warmup-2 > string_times \n",
    "prev  |  next  |  chance\n",
    "Given a string and a non-negative int n, return a larger string that is n copies of the original string.\n",
    "\n",
    "\n",
    "string_times('Hi', 2) → 'HiHi'\n",
    "string_times('Hi', 3) → 'HiHiHi'\n",
    "string_times('Hi', 1) → 'Hi'"
   ]
  },
  {
   "cell_type": "code",
   "execution_count": 2,
   "metadata": {},
   "outputs": [
    {
     "data": {
      "text/plain": [
       "'HelloHelloHelloHelloHello'"
      ]
     },
     "execution_count": 2,
     "metadata": {},
     "output_type": "execute_result"
    }
   ],
   "source": [
    "def string_times(str, n):\n",
    "    result = \"\"\n",
    "    for i in range(n):  \n",
    "        result = result + str  \n",
    "    return result\n",
    "string_times(\"Hello\",5)"
   ]
  },
  {
   "cell_type": "markdown",
   "metadata": {},
   "source": [
    "# Problem2\n",
    "Warmup-2 > string_splosion \n",
    "prev  |  next  |  chance\n",
    "Given a non-empty string like \"Code\" return a string like \"CCoCodCode\".\n",
    "\n",
    "\n",
    "string_splosion('Code') → 'CCoCodCode'\n",
    "string_splosion('abc') → 'aababc'\n",
    "string_splosion('ab') → 'aab'"
   ]
  },
  {
   "cell_type": "code",
   "execution_count": 13,
   "metadata": {},
   "outputs": [
    {
     "name": "stdout",
     "output_type": "stream",
     "text": [
      "C Co Cod Code \n",
      "A Ab Abc \n"
     ]
    }
   ],
   "source": [
    "def string_splosion(str):\n",
    "    result = \"\"\n",
    "    for i in range(len(str)):\n",
    "        result = result + str[:i+1]+\" \"\n",
    "    return result\n",
    "print(string_splosion(\"Code\"))\n",
    "print(string_splosion(\"Abc\"))\n"
   ]
  },
  {
   "cell_type": "markdown",
   "metadata": {},
   "source": [
    "# Problem 3\n",
    "Warmup-2 > array_front9 \n",
    "prev  |  next  |  chance\n",
    "Given an array of ints, return True if one of the first 4 elements in the array is a 9. The array length may be less than 4.\n",
    "\n",
    "\n",
    "array_front9([1, 2, 9, 3, 4]) → True\n",
    "array_front9([1, 2, 3, 4, 9]) → False\n",
    "array_front9([1, 2, 3, 4, 5]) → False"
   ]
  },
  {
   "cell_type": "code",
   "execution_count": 20,
   "metadata": {},
   "outputs": [
    {
     "name": "stdout",
     "output_type": "stream",
     "text": [
      "True\n",
      "False\n"
     ]
    }
   ],
   "source": [
    "def array_front9(nums):\n",
    "    for i in range(4):\n",
    "        if nums[i]==9:\n",
    "            return True\n",
    "    return False\n",
    "nums=[1,2,3,9]\n",
    "nums=[1,9]\n",
    "nums1=[1,2,3,4,9]\n",
    "print(array_front9(nums))\n",
    "print(array_front9(nums1))\n",
    "\n",
    "  "
   ]
  },
  {
   "cell_type": "markdown",
   "metadata": {},
   "source": [
    "# Problem 4\n",
    "Warmup-2 > front_times \n",
    "prev  |  next  |  chance\n",
    "Given a string and a non-negative int n, we'll say that the front of the string is the first 3 chars, or whatever is there if the string is less than length 3. Return n copies of the front;\n",
    "\n",
    "\n",
    "front_times('Chocolate', 2) → 'ChoCho'\n",
    "front_times('Chocolate', 3) → 'ChoChoCho'\n",
    "front_times('Abc', 3) → 'AbcAbcAbc'"
   ]
  },
  {
   "cell_type": "code",
   "execution_count": 56,
   "metadata": {},
   "outputs": [
    {
     "name": "stdout",
     "output_type": "stream",
     "text": [
      "ChoCho\n",
      "ChoChoCho\n",
      "AbcAbcAbc\n"
     ]
    }
   ],
   "source": [
    "def front_times(str, n):\n",
    "    front_len = 3\n",
    "    if front_len > len(str):\n",
    "        front_len = len(str)\n",
    "    front = str[:front_len]\n",
    "  \n",
    "    result = \"\"\n",
    "    for i in range(n):\n",
    "        result = result + front\n",
    "    return result\n",
    "print(front_times('Chocolate', 2))\n",
    "print(front_times('Chocolate', 3))\n",
    "print(front_times('Abc', 3))\n"
   ]
  },
  {
   "cell_type": "markdown",
   "metadata": {},
   "source": [
    "# Problem 5\n",
    "Warmup-2 > last2 \n",
    "prev  |  next  |  chance\n",
    "Given a string, return the count of the number of times that a substring length 2 appears in the string and also as the last 2 chars of the string, so \"hixxxhi\" yields 1 (we won't count the end substring).\n",
    "\n",
    "\n",
    "last2('hixxhi') → 1\n",
    "last2('xaxxaxaxx') → 1\n",
    "last2('axxxaaxx') → 2"
   ]
  },
  {
   "cell_type": "code",
   "execution_count": 51,
   "metadata": {},
   "outputs": [
    {
     "name": "stdout",
     "output_type": "stream",
     "text": [
      "1\n",
      "1\n",
      "2\n"
     ]
    }
   ],
   "source": [
    "def last2(str):\n",
    "    # Screen out too-short string case.\n",
    "    if len(str) < 2:\n",
    "        return 0\n",
    "  \n",
    "    # last 2 chars, can be written as str[-2:]\n",
    "    last2 = str[len(str)-2:]\n",
    "    count = 0\n",
    "    # Check each substring length 2 starting at i\n",
    "    for i in range(len(str)-2):\n",
    "        sub = str[i:i+2]\n",
    "        if sub == last2:\n",
    "              count = count + 1\n",
    "\n",
    "    return count\n",
    "print(last2(\"hixxhi\"))\n",
    "print(last2(\"xaxxaxaxx\"))\n",
    "print(last2(\"axxxaaxx\"))"
   ]
  },
  {
   "cell_type": "markdown",
   "metadata": {},
   "source": [
    "# Problem 6\n",
    "Warmup-2 > array123 \n",
    "prev  |  next  |  chance\n",
    "Given an array of ints, return True if the sequence of numbers 1, 2, 3 appears in the array somewhere.\n",
    "\n",
    "\n",
    "array123([1, 1, 2, 3, 1]) → True\n",
    "array123([1, 1, 2, 4, 1]) → False\n",
    "array123([1, 1, 2, 1, 2, 3]) → True"
   ]
  },
  {
   "cell_type": "code",
   "execution_count": 26,
   "metadata": {},
   "outputs": [
    {
     "name": "stdout",
     "output_type": "stream",
     "text": [
      "True\n",
      "False\n",
      "True\n"
     ]
    }
   ],
   "source": [
    "def array123(nums):\n",
    "    for i in range(len(nums)-2):\n",
    "        if nums[i]==1 and nums[i+1]==2 and nums[i+2]==3:\n",
    "            return True\n",
    "    return False\n",
    "nums=[1,1,2,3,1]\n",
    "nums1=[1,1,2,4,1]\n",
    "nums2=[1,1,2,1,2,3]\n",
    "print(array123(nums))\n",
    "print(array123(nums1))\n",
    "print(array123(nums2))"
   ]
  },
  {
   "cell_type": "markdown",
   "metadata": {},
   "source": [
    "# Problem 7\n",
    "Warmup-2 > string_bits \n",
    "prev  |  next  |  chance\n",
    "Given a string, return a new string made of every other char starting with the first, so \"Hello\" yields \"Hlo\".\n",
    "\n",
    "\n",
    "string_bits('Hello') → 'Hlo'\n",
    "string_bits('Hi') → 'H'\n",
    "string_bits('Heeololeo') → 'Hello'"
   ]
  },
  {
   "cell_type": "code",
   "execution_count": 60,
   "metadata": {},
   "outputs": [
    {
     "name": "stdout",
     "output_type": "stream",
     "text": [
      "Hlo\n",
      "H\n",
      "Hello\n"
     ]
    }
   ],
   "source": [
    "def string_bits(str):\n",
    "    result = \"\"\n",
    "    # Many ways to do this. This uses the standard loop of i on every char,\n",
    "    # and inside the loop skips the odd index values.\n",
    "    for i in range(len(str)):\n",
    "        if i % 2 == 0:\n",
    "              result = result + str[i]\n",
    "    return result\n",
    "print(string_bits('Hello'))\n",
    "print(string_bits('Hi'))\n",
    "print(string_bits('Heeololeo'))"
   ]
  },
  {
   "cell_type": "markdown",
   "metadata": {},
   "source": [
    "# Problem 8\n",
    "Warmup-2 > array_count9 \n",
    "prev  |  next  |  chance\n",
    "Given an array of ints, return the number of 9's in the array.\n",
    "\n",
    "\n",
    "array_count9([1, 2, 9]) → 1\n",
    "array_count9([1, 9, 9]) → 2\n",
    "array_count9([1, 9, 9, 3, 9]) → 3"
   ]
  },
  {
   "cell_type": "code",
   "execution_count": 46,
   "metadata": {},
   "outputs": [
    {
     "name": "stdout",
     "output_type": "stream",
     "text": [
      "1\n",
      "2\n",
      "3\n"
     ]
    }
   ],
   "source": [
    "def array_count9(nums):\n",
    "    count = 0\n",
    "    for num in nums:\n",
    "        if num == 9:\n",
    "            count = count + 1\n",
    "\n",
    "    return count\n",
    "nums=[1,2,9]\n",
    "print(array_count9(nums))\n",
    "nums=[1,9,9]\n",
    "print(array_count9(nums))\n",
    "nums=[1,9,9,3,9]\n",
    "print(array_count9(nums))\n"
   ]
  },
  {
   "cell_type": "markdown",
   "metadata": {},
   "source": [
    "# Problem 9\n",
    "Warmup-2 > string_match \n",
    "prev  |  next  |  chance\n",
    "Given 2 strings, a and b, return the number of the positions where they contain the same length 2 substring. So \"xxcaazz\" and \"xxbaaz\" yields 3, since the \"xx\", \"aa\", and \"az\" substrings appear in the same place in both strings.\n",
    "\n",
    "\n",
    "string_match('xxcaazz', 'xxbaaz') → 3\n",
    "string_match('abc', 'abc') → 2\n",
    "string_match('abc', 'axc') → 0"
   ]
  },
  {
   "cell_type": "code",
   "execution_count": 41,
   "metadata": {},
   "outputs": [
    {
     "name": "stdout",
     "output_type": "stream",
     "text": [
      "xx\n",
      "aa\n",
      "az\n",
      "3\n",
      "0\n",
      "ab\n",
      "bc\n",
      "2\n"
     ]
    }
   ],
   "source": [
    "def string_match(a, b):\n",
    "    # Figure which string is shorter.\n",
    "    shorter = min(len(a), len(b))\n",
    "    count = 0\n",
    "    for i in range(shorter-1):\n",
    "        a_sub = a[i:i+2]\n",
    "        b_sub = b[i:i+2]\n",
    "        if a_sub == b_sub:\n",
    "                print(a_sub)\n",
    "                count = count + 1\n",
    "\n",
    "    return count\n",
    "print(string_match(\"xxcaazz\",\"xxbaaz\"))\n",
    "print(string_match(\"abc\",\"axc\"))\n",
    "print(string_match(\"abc\",\"abc\"))"
   ]
  },
  {
   "cell_type": "code",
   "execution_count": null,
   "metadata": {},
   "outputs": [],
   "source": []
  }
 ],
 "metadata": {
  "kernelspec": {
   "display_name": "Python 3",
   "language": "python",
   "name": "python3"
  },
  "language_info": {
   "codemirror_mode": {
    "name": "ipython",
    "version": 3
   },
   "file_extension": ".py",
   "mimetype": "text/x-python",
   "name": "python",
   "nbconvert_exporter": "python",
   "pygments_lexer": "ipython3",
   "version": "3.7.1"
  }
 },
 "nbformat": 4,
 "nbformat_minor": 2
}
